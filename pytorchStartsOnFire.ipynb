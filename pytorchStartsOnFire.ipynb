{
  "nbformat": 4,
  "nbformat_minor": 0,
  "metadata": {
    "colab": {
      "name": "pytorchStartsOnFire.ipynb",
      "provenance": [],
      "collapsed_sections": [],
      "authorship_tag": "ABX9TyPoUiHhoaXY3vkBx1fPOk/8",
      "include_colab_link": true
    },
    "kernelspec": {
      "name": "python3",
      "display_name": "Python 3"
    },
    "language_info": {
      "name": "python"
    }
  },
  "cells": [
    {
      "cell_type": "markdown",
      "metadata": {
        "id": "view-in-github",
        "colab_type": "text"
      },
      "source": [
        "<a href=\"https://colab.research.google.com/github/Mukeshkumar9787/Mukeshkumar9787/blob/main/pytorchStartsOnFire.ipynb\" target=\"_parent\"><img src=\"https://colab.research.google.com/assets/colab-badge.svg\" alt=\"Open In Colab\"/></a>"
      ]
    },
    {
      "cell_type": "code",
      "execution_count": 26,
      "metadata": {
        "id": "Om4Qp_TfJlKt"
      },
      "outputs": [],
      "source": [
        "import torch"
      ]
    },
    {
      "cell_type": "code",
      "source": [
        "X = torch.Tensor([[1,0,1,0],[1,0,1,1],[0,1,0,1]])\n",
        "y = torch.Tensor([[1],[1],[0]])\n",
        "print(X,y,sep=\"\\n\")"
      ],
      "metadata": {
        "colab": {
          "base_uri": "https://localhost:8080/"
        },
        "id": "1uXqeqnEJ62U",
        "outputId": "98b595ec-a593-4b64-95b4-c63e245c733c"
      },
      "execution_count": 27,
      "outputs": [
        {
          "output_type": "stream",
          "name": "stdout",
          "text": [
            "tensor([[1., 0., 1., 0.],\n",
            "        [1., 0., 1., 1.],\n",
            "        [0., 1., 0., 1.]])\n",
            "tensor([[1.],\n",
            "        [1.],\n",
            "        [0.]])\n"
          ]
        }
      ]
    },
    {
      "cell_type": "code",
      "source": [
        "X.shape[1]"
      ],
      "metadata": {
        "colab": {
          "base_uri": "https://localhost:8080/"
        },
        "id": "bo1CZvcULyCS",
        "outputId": "0fc8c260-4c7d-4ffc-9a53-2a0111ff71e4"
      },
      "execution_count": 28,
      "outputs": [
        {
          "output_type": "execute_result",
          "data": {
            "text/plain": [
              "4"
            ]
          },
          "metadata": {},
          "execution_count": 28
        }
      ]
    },
    {
      "cell_type": "code",
      "source": [
        "epochs = 20000\n",
        "lr = 0.1\n",
        "inputLayerNeurons = X.shape[1]\n",
        "hiddenLayersNeurons = 3 \n",
        "outputLayerNeurons = 1"
      ],
      "metadata": {
        "id": "nGlz7hZkKeen"
      },
      "execution_count": 34,
      "outputs": []
    },
    {
      "cell_type": "code",
      "source": [
        "weightsToHiddenLayer = torch.randn(inputLayerNeurons, hiddenLayersNeurons).type(torch.FloatTensor)\n",
        "biasToHiddenLayer = torch.randn(1,hiddenLayersNeurons).type(torch.FloatTensor)\n",
        "weightsToOutputLayer = torch.randn(hiddenLayersNeurons, outputLayerNeurons)\n",
        "biasToOutputLayer = torch.randn(1, outputLayerNeurons)"
      ],
      "metadata": {
        "id": "w9QgOBl3MXGU"
      },
      "execution_count": 30,
      "outputs": []
    },
    {
      "cell_type": "code",
      "source": [
        "def sigmoid(x):\n",
        "  return 1 / (1 + torch.exp(-x))\n",
        "\n",
        "def derivativesSigmoid(x):\n",
        "  return sigmoid(x) * (1 - sigmoid(x))"
      ],
      "metadata": {
        "id": "_sQeHnXGjfbj"
      },
      "execution_count": 31,
      "outputs": []
    },
    {
      "cell_type": "code",
      "source": [
        "for epoch in range(epochs):\n",
        "  # forwardpropagation\n",
        "  hiddenLayerInput = torch.mm(X,weightsToHiddenLayer) + biasToHiddenLayer\n",
        "  hiddenLayerActivations = sigmoid(hiddenLayerInput)\n",
        "\n",
        "  outputLayerInput = torch.mm(hiddenLayerActivations,weightsToOutputLayer)\n",
        "  output = sigmoid(outputLayerInput)\n",
        "  # Backpropagation\n",
        "  Error = y - output\n",
        "  slopeOutputLayer = derivativesSigmoid(output)\n",
        "  slopeHiddenLayer = derivativesSigmoid(hiddenLayerActivations)\n",
        "  differentialOutput = Error * slopeOutputLayer\n",
        "  ErrorAtHiddenLayer = torch.mm(differentialOutput, weightsToOutputLayer.t())\n",
        "  differentialHiddenLayer = ErrorAtHiddenLayer * slopeHiddenLayer\n",
        "  weightsToOutputLayer += torch.mm(hiddenLayerActivations.t(), differentialOutput) * lr\n",
        "  biasToOutputLayer += differentialOutput.sum() * lr\n",
        "  weightsToHiddenLayer += torch.mm(X.t(), differentialHiddenLayer) * lr\n",
        "  biasToHiddenLayer += differentialOutput.sum() * lr\n"
      ],
      "metadata": {
        "id": "47OCPeKANzCp"
      },
      "execution_count": 35,
      "outputs": []
    },
    {
      "cell_type": "code",
      "source": [
        "print(\"actual\", y, \"\\n\")\n",
        "print(\"predicted\", output) "
      ],
      "metadata": {
        "colab": {
          "base_uri": "https://localhost:8080/"
        },
        "id": "hg_mmyfxjcC8",
        "outputId": "9a94695b-b819-4639-edfc-9551f9a00a61"
      },
      "execution_count": 36,
      "outputs": [
        {
          "output_type": "stream",
          "name": "stdout",
          "text": [
            "actual tensor([[1.],\n",
            "        [1.],\n",
            "        [0.]]) \n",
            "\n",
            "predicted tensor([[0.9998],\n",
            "        [0.9992],\n",
            "        [0.0013]])\n"
          ]
        }
      ]
    },
    {
      "cell_type": "code",
      "source": [
        ""
      ],
      "metadata": {
        "id": "er4yoQkomltx"
      },
      "execution_count": 33,
      "outputs": []
    }
  ]
}